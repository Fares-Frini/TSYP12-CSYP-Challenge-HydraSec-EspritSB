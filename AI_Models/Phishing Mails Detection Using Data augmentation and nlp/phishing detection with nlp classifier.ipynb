{
 "cells": [
  {
   "cell_type": "code",
   "execution_count": null,
   "metadata": {
    "_cell_guid": "b1076dfc-b9ad-4769-8c92-a6c4dae69d19",
    "_uuid": "8f2839f25d086af736a60e9eeb907d3b93b6e0e5",
    "execution": {
     "iopub.execute_input": "2024-11-10T01:36:31.879297Z",
     "iopub.status.busy": "2024-11-10T01:36:31.879006Z",
     "iopub.status.idle": "2024-11-10T01:36:32.252698Z",
     "shell.execute_reply": "2024-11-10T01:36:32.251781Z",
     "shell.execute_reply.started": "2024-11-10T01:36:31.879258Z"
    },
    "trusted": true
   },
   "outputs": [
    {
     "name": "stdout",
     "output_type": "stream",
     "text": [
      "/kaggle/input/spam-emails/spam.csv\n",
      "/kaggle/input/slang-txt/Slang Text.csv\n"
     ]
    }
   ],
   "source": [
    "import numpy as np # linear algebra\n",
    "import pandas as pd # data processing, CSV file I/O (e.g. pd.read_csv)\n",
    "import time\n",
    "import random\n",
    "import gc\n",
    "\n",
    "\n",
    "import os\n",
    "for dirname, _, filenames in os.walk('/kaggle/input'):\n",
    "    for filename in filenames:\n",
    "        print(os.path.join(dirname, filename))\n"
   ]
  },
  {
   "cell_type": "code",
   "execution_count": null,
   "metadata": {
    "execution": {
     "iopub.execute_input": "2024-11-10T01:36:32.254726Z",
     "iopub.status.busy": "2024-11-10T01:36:32.254306Z",
     "iopub.status.idle": "2024-11-10T01:36:47.785214Z",
     "shell.execute_reply": "2024-11-10T01:36:47.784163Z",
     "shell.execute_reply.started": "2024-11-10T01:36:32.254693Z"
    },
    "trusted": true
   },
   "outputs": [
    {
     "name": "stdout",
     "output_type": "stream",
     "text": [
      "Note: you may need to restart the kernel to use updated packages.\n"
     ]
    }
   ],
   "source": [
    "%pip install -q matplotlib scikit-learn contractions nltk spacy transformers torch sacremoses"
   ]
  },
  {
   "cell_type": "code",
   "execution_count": null,
   "metadata": {
    "execution": {
     "iopub.execute_input": "2024-11-10T01:36:47.786985Z",
     "iopub.status.busy": "2024-11-10T01:36:47.786684Z",
     "iopub.status.idle": "2024-11-10T01:37:16.881437Z",
     "shell.execute_reply": "2024-11-10T01:37:16.880290Z",
     "shell.execute_reply.started": "2024-11-10T01:36:47.786954Z"
    },
    "trusted": true
   },
   "outputs": [
    {
     "name": "stdout",
     "output_type": "stream",
     "text": [
      "Collecting en-core-web-lg==3.7.1\n",
      "  Downloading https://github.com/explosion/spacy-models/releases/download/en_core_web_lg-3.7.1/en_core_web_lg-3.7.1-py3-none-any.whl (587.7 MB)\n",
      "\u001b[2K     \u001b[90m━━━━━━━━━━━━━━━━━━━━━━━━━━━━━━━━━━━━━━━\u001b[0m \u001b[32m587.7/587.7 MB\u001b[0m \u001b[31m2.7 MB/s\u001b[0m eta \u001b[36m0:00:00\u001b[0m00:01\u001b[0m00:01\u001b[0m\n",
      "\u001b[?25hRequirement already satisfied: spacy<3.8.0,>=3.7.2 in /opt/conda/lib/python3.10/site-packages (from en-core-web-lg==3.7.1) (3.7.5)\n",
      "Requirement already satisfied: spacy-legacy<3.1.0,>=3.0.11 in /opt/conda/lib/python3.10/site-packages (from spacy<3.8.0,>=3.7.2->en-core-web-lg==3.7.1) (3.0.12)\n",
      "Requirement already satisfied: spacy-loggers<2.0.0,>=1.0.0 in /opt/conda/lib/python3.10/site-packages (from spacy<3.8.0,>=3.7.2->en-core-web-lg==3.7.1) (1.0.5)\n",
      "Requirement already satisfied: murmurhash<1.1.0,>=0.28.0 in /opt/conda/lib/python3.10/site-packages (from spacy<3.8.0,>=3.7.2->en-core-web-lg==3.7.1) (1.0.10)\n",
      "Requirement already satisfied: cymem<2.1.0,>=2.0.2 in /opt/conda/lib/python3.10/site-packages (from spacy<3.8.0,>=3.7.2->en-core-web-lg==3.7.1) (2.0.8)\n",
      "Requirement already satisfied: preshed<3.1.0,>=3.0.2 in /opt/conda/lib/python3.10/site-packages (from spacy<3.8.0,>=3.7.2->en-core-web-lg==3.7.1) (3.0.9)\n",
      "Requirement already satisfied: thinc<8.3.0,>=8.2.2 in /opt/conda/lib/python3.10/site-packages (from spacy<3.8.0,>=3.7.2->en-core-web-lg==3.7.1) (8.2.5)\n",
      "Requirement already satisfied: wasabi<1.2.0,>=0.9.1 in /opt/conda/lib/python3.10/site-packages (from spacy<3.8.0,>=3.7.2->en-core-web-lg==3.7.1) (1.1.2)\n",
      "Requirement already satisfied: srsly<3.0.0,>=2.4.3 in /opt/conda/lib/python3.10/site-packages (from spacy<3.8.0,>=3.7.2->en-core-web-lg==3.7.1) (2.4.8)\n",
      "Requirement already satisfied: catalogue<2.1.0,>=2.0.6 in /opt/conda/lib/python3.10/site-packages (from spacy<3.8.0,>=3.7.2->en-core-web-lg==3.7.1) (2.0.10)\n",
      "Requirement already satisfied: weasel<0.5.0,>=0.1.0 in /opt/conda/lib/python3.10/site-packages (from spacy<3.8.0,>=3.7.2->en-core-web-lg==3.7.1) (0.4.1)\n",
      "Requirement already satisfied: typer<1.0.0,>=0.3.0 in /opt/conda/lib/python3.10/site-packages (from spacy<3.8.0,>=3.7.2->en-core-web-lg==3.7.1) (0.12.3)\n",
      "Requirement already satisfied: tqdm<5.0.0,>=4.38.0 in /opt/conda/lib/python3.10/site-packages (from spacy<3.8.0,>=3.7.2->en-core-web-lg==3.7.1) (4.66.4)\n",
      "Requirement already satisfied: requests<3.0.0,>=2.13.0 in /opt/conda/lib/python3.10/site-packages (from spacy<3.8.0,>=3.7.2->en-core-web-lg==3.7.1) (2.32.3)\n",
      "Requirement already satisfied: pydantic!=1.8,!=1.8.1,<3.0.0,>=1.7.4 in /opt/conda/lib/python3.10/site-packages (from spacy<3.8.0,>=3.7.2->en-core-web-lg==3.7.1) (2.8.2)\n",
      "Requirement already satisfied: jinja2 in /opt/conda/lib/python3.10/site-packages (from spacy<3.8.0,>=3.7.2->en-core-web-lg==3.7.1) (3.1.4)\n",
      "Requirement already satisfied: setuptools in /opt/conda/lib/python3.10/site-packages (from spacy<3.8.0,>=3.7.2->en-core-web-lg==3.7.1) (70.0.0)\n",
      "Requirement already satisfied: packaging>=20.0 in /opt/conda/lib/python3.10/site-packages (from spacy<3.8.0,>=3.7.2->en-core-web-lg==3.7.1) (21.3)\n",
      "Requirement already satisfied: langcodes<4.0.0,>=3.2.0 in /opt/conda/lib/python3.10/site-packages (from spacy<3.8.0,>=3.7.2->en-core-web-lg==3.7.1) (3.4.0)\n",
      "Requirement already satisfied: numpy>=1.19.0 in /opt/conda/lib/python3.10/site-packages (from spacy<3.8.0,>=3.7.2->en-core-web-lg==3.7.1) (1.26.4)\n",
      "Requirement already satisfied: language-data>=1.2 in /opt/conda/lib/python3.10/site-packages (from langcodes<4.0.0,>=3.2.0->spacy<3.8.0,>=3.7.2->en-core-web-lg==3.7.1) (1.2.0)\n",
      "Requirement already satisfied: pyparsing!=3.0.5,>=2.0.2 in /opt/conda/lib/python3.10/site-packages (from packaging>=20.0->spacy<3.8.0,>=3.7.2->en-core-web-lg==3.7.1) (3.1.2)\n",
      "Requirement already satisfied: annotated-types>=0.4.0 in /opt/conda/lib/python3.10/site-packages (from pydantic!=1.8,!=1.8.1,<3.0.0,>=1.7.4->spacy<3.8.0,>=3.7.2->en-core-web-lg==3.7.1) (0.7.0)\n",
      "Requirement already satisfied: pydantic-core==2.20.1 in /opt/conda/lib/python3.10/site-packages (from pydantic!=1.8,!=1.8.1,<3.0.0,>=1.7.4->spacy<3.8.0,>=3.7.2->en-core-web-lg==3.7.1) (2.20.1)\n",
      "Requirement already satisfied: typing-extensions>=4.6.1 in /opt/conda/lib/python3.10/site-packages (from pydantic!=1.8,!=1.8.1,<3.0.0,>=1.7.4->spacy<3.8.0,>=3.7.2->en-core-web-lg==3.7.1) (4.12.2)\n",
      "Requirement already satisfied: charset-normalizer<4,>=2 in /opt/conda/lib/python3.10/site-packages (from requests<3.0.0,>=2.13.0->spacy<3.8.0,>=3.7.2->en-core-web-lg==3.7.1) (3.3.2)\n",
      "Requirement already satisfied: idna<4,>=2.5 in /opt/conda/lib/python3.10/site-packages (from requests<3.0.0,>=2.13.0->spacy<3.8.0,>=3.7.2->en-core-web-lg==3.7.1) (3.7)\n",
      "Requirement already satisfied: urllib3<3,>=1.21.1 in /opt/conda/lib/python3.10/site-packages (from requests<3.0.0,>=2.13.0->spacy<3.8.0,>=3.7.2->en-core-web-lg==3.7.1) (1.26.18)\n",
      "Requirement already satisfied: certifi>=2017.4.17 in /opt/conda/lib/python3.10/site-packages (from requests<3.0.0,>=2.13.0->spacy<3.8.0,>=3.7.2->en-core-web-lg==3.7.1) (2024.7.4)\n",
      "Requirement already satisfied: blis<0.8.0,>=0.7.8 in /opt/conda/lib/python3.10/site-packages (from thinc<8.3.0,>=8.2.2->spacy<3.8.0,>=3.7.2->en-core-web-lg==3.7.1) (0.7.10)\n",
      "Requirement already satisfied: confection<1.0.0,>=0.0.1 in /opt/conda/lib/python3.10/site-packages (from thinc<8.3.0,>=8.2.2->spacy<3.8.0,>=3.7.2->en-core-web-lg==3.7.1) (0.1.4)\n",
      "Requirement already satisfied: click>=8.0.0 in /opt/conda/lib/python3.10/site-packages (from typer<1.0.0,>=0.3.0->spacy<3.8.0,>=3.7.2->en-core-web-lg==3.7.1) (8.1.7)\n",
      "Requirement already satisfied: shellingham>=1.3.0 in /opt/conda/lib/python3.10/site-packages (from typer<1.0.0,>=0.3.0->spacy<3.8.0,>=3.7.2->en-core-web-lg==3.7.1) (1.5.4)\n",
      "Requirement already satisfied: rich>=10.11.0 in /opt/conda/lib/python3.10/site-packages (from typer<1.0.0,>=0.3.0->spacy<3.8.0,>=3.7.2->en-core-web-lg==3.7.1) (13.7.1)\n",
      "Requirement already satisfied: cloudpathlib<1.0.0,>=0.7.0 in /opt/conda/lib/python3.10/site-packages (from weasel<0.5.0,>=0.1.0->spacy<3.8.0,>=3.7.2->en-core-web-lg==3.7.1) (0.18.1)\n",
      "Requirement already satisfied: smart-open<8.0.0,>=5.2.1 in /opt/conda/lib/python3.10/site-packages (from weasel<0.5.0,>=0.1.0->spacy<3.8.0,>=3.7.2->en-core-web-lg==3.7.1) (7.0.4)\n",
      "Requirement already satisfied: MarkupSafe>=2.0 in /opt/conda/lib/python3.10/site-packages (from jinja2->spacy<3.8.0,>=3.7.2->en-core-web-lg==3.7.1) (2.1.5)\n",
      "Requirement already satisfied: marisa-trie>=0.7.7 in /opt/conda/lib/python3.10/site-packages (from language-data>=1.2->langcodes<4.0.0,>=3.2.0->spacy<3.8.0,>=3.7.2->en-core-web-lg==3.7.1) (1.1.0)\n",
      "Requirement already satisfied: markdown-it-py>=2.2.0 in /opt/conda/lib/python3.10/site-packages (from rich>=10.11.0->typer<1.0.0,>=0.3.0->spacy<3.8.0,>=3.7.2->en-core-web-lg==3.7.1) (3.0.0)\n",
      "Requirement already satisfied: pygments<3.0.0,>=2.13.0 in /opt/conda/lib/python3.10/site-packages (from rich>=10.11.0->typer<1.0.0,>=0.3.0->spacy<3.8.0,>=3.7.2->en-core-web-lg==3.7.1) (2.18.0)\n",
      "Requirement already satisfied: wrapt in /opt/conda/lib/python3.10/site-packages (from smart-open<8.0.0,>=5.2.1->weasel<0.5.0,>=0.1.0->spacy<3.8.0,>=3.7.2->en-core-web-lg==3.7.1) (1.16.0)\n",
      "Requirement already satisfied: mdurl~=0.1 in /opt/conda/lib/python3.10/site-packages (from markdown-it-py>=2.2.0->rich>=10.11.0->typer<1.0.0,>=0.3.0->spacy<3.8.0,>=3.7.2->en-core-web-lg==3.7.1) (0.1.2)\n",
      "\u001b[38;5;2m✔ Download and installation successful\u001b[0m\n",
      "You can now load the package via spacy.load('en_core_web_lg')\n"
     ]
    }
   ],
   "source": [
    "!python -m spacy download en_core_web_lg"
   ]
  },
  {
   "cell_type": "markdown",
   "metadata": {},
   "source": [
    "# Data\n",
    "\n",
    "Dataset is taken from next kaggle dataset, [link](https://www.kaggle.com/datasets/abdallahwagih/spam-emails/data)"
   ]
  },
  {
   "cell_type": "markdown",
   "metadata": {},
   "source": [
    "## Download dataset"
   ]
  },
  {
   "cell_type": "code",
   "execution_count": null,
   "metadata": {
    "execution": {
     "iopub.execute_input": "2024-11-10T01:37:16.883178Z",
     "iopub.status.busy": "2024-11-10T01:37:16.882842Z",
     "iopub.status.idle": "2024-11-10T01:37:16.935151Z",
     "shell.execute_reply": "2024-11-10T01:37:16.934294Z",
     "shell.execute_reply.started": "2024-11-10T01:37:16.883144Z"
    },
    "trusted": true
   },
   "outputs": [
    {
     "data": {
      "text/html": [
       "<div>\n",
       "<style scoped>\n",
       "    .dataframe tbody tr th:only-of-type {\n",
       "        vertical-align: middle;\n",
       "    }\n",
       "\n",
       "    .dataframe tbody tr th {\n",
       "        vertical-align: top;\n",
       "    }\n",
       "\n",
       "    .dataframe thead th {\n",
       "        text-align: right;\n",
       "    }\n",
       "</style>\n",
       "<table border=\"1\" class=\"dataframe\">\n",
       "  <thead>\n",
       "    <tr style=\"text-align: right;\">\n",
       "      <th></th>\n",
       "      <th>Category</th>\n",
       "      <th>Message</th>\n",
       "    </tr>\n",
       "  </thead>\n",
       "  <tbody>\n",
       "    <tr>\n",
       "      <th>0</th>\n",
       "      <td>ham</td>\n",
       "      <td>Go until jurong point, crazy.. Available only ...</td>\n",
       "    </tr>\n",
       "    <tr>\n",
       "      <th>1</th>\n",
       "      <td>ham</td>\n",
       "      <td>Ok lar... Joking wif u oni...</td>\n",
       "    </tr>\n",
       "    <tr>\n",
       "      <th>2</th>\n",
       "      <td>spam</td>\n",
       "      <td>Free entry in 2 a wkly comp to win FA Cup fina...</td>\n",
       "    </tr>\n",
       "    <tr>\n",
       "      <th>3</th>\n",
       "      <td>ham</td>\n",
       "      <td>U dun say so early hor... U c already then say...</td>\n",
       "    </tr>\n",
       "    <tr>\n",
       "      <th>4</th>\n",
       "      <td>ham</td>\n",
       "      <td>Nah I don't think he goes to usf, he lives aro...</td>\n",
       "    </tr>\n",
       "    <tr>\n",
       "      <th>...</th>\n",
       "      <td>...</td>\n",
       "      <td>...</td>\n",
       "    </tr>\n",
       "    <tr>\n",
       "      <th>5567</th>\n",
       "      <td>spam</td>\n",
       "      <td>This is the 2nd time we have tried 2 contact u...</td>\n",
       "    </tr>\n",
       "    <tr>\n",
       "      <th>5568</th>\n",
       "      <td>ham</td>\n",
       "      <td>Will ü b going to esplanade fr home?</td>\n",
       "    </tr>\n",
       "    <tr>\n",
       "      <th>5569</th>\n",
       "      <td>ham</td>\n",
       "      <td>Pity, * was in mood for that. So...any other s...</td>\n",
       "    </tr>\n",
       "    <tr>\n",
       "      <th>5570</th>\n",
       "      <td>ham</td>\n",
       "      <td>The guy did some bitching but I acted like i'd...</td>\n",
       "    </tr>\n",
       "    <tr>\n",
       "      <th>5571</th>\n",
       "      <td>ham</td>\n",
       "      <td>Rofl. Its true to its name</td>\n",
       "    </tr>\n",
       "  </tbody>\n",
       "</table>\n",
       "<p>5572 rows × 2 columns</p>\n",
       "</div>"
      ],
      "text/plain": [
       "     Category                                            Message\n",
       "0         ham  Go until jurong point, crazy.. Available only ...\n",
       "1         ham                      Ok lar... Joking wif u oni...\n",
       "2        spam  Free entry in 2 a wkly comp to win FA Cup fina...\n",
       "3         ham  U dun say so early hor... U c already then say...\n",
       "4         ham  Nah I don't think he goes to usf, he lives aro...\n",
       "...       ...                                                ...\n",
       "5567     spam  This is the 2nd time we have tried 2 contact u...\n",
       "5568      ham               Will ü b going to esplanade fr home?\n",
       "5569      ham  Pity, * was in mood for that. So...any other s...\n",
       "5570      ham  The guy did some bitching but I acted like i'd...\n",
       "5571      ham                         Rofl. Its true to its name\n",
       "\n",
       "[5572 rows x 2 columns]"
      ]
     },
     "execution_count": 4,
     "metadata": {},
     "output_type": "execute_result"
    }
   ],
   "source": [
    "df = pd.read_csv('/kaggle/input/spam-emails/spam.csv')\n",
    "df"
   ]
  },
  {
   "cell_type": "markdown",
   "metadata": {},
   "source": [
    "## Simple EDA"
   ]
  },
  {
   "cell_type": "code",
   "execution_count": 5,
   "metadata": {
    "execution": {
     "iopub.execute_input": "2024-11-10T01:37:16.937955Z",
     "iopub.status.busy": "2024-11-10T01:37:16.937674Z",
     "iopub.status.idle": "2024-11-10T01:37:16.958283Z",
     "shell.execute_reply": "2024-11-10T01:37:16.957289Z",
     "shell.execute_reply.started": "2024-11-10T01:37:16.937925Z"
    },
    "trusted": true
   },
   "outputs": [
    {
     "name": "stdout",
     "output_type": "stream",
     "text": [
      "<class 'pandas.core.frame.DataFrame'>\n",
      "RangeIndex: 5572 entries, 0 to 5571\n",
      "Data columns (total 2 columns):\n",
      " #   Column    Non-Null Count  Dtype \n",
      "---  ------    --------------  ----- \n",
      " 0   Category  5572 non-null   object\n",
      " 1   Message   5572 non-null   object\n",
      "dtypes: object(2)\n",
      "memory usage: 87.2+ KB\n"
     ]
    }
   ],
   "source": [
    "df.info()"
   ]
  },
  {
   "cell_type": "code",
   "execution_count": 6,
   "metadata": {
    "execution": {
     "iopub.execute_input": "2024-11-10T01:37:16.960149Z",
     "iopub.status.busy": "2024-11-10T01:37:16.959716Z",
     "iopub.status.idle": "2024-11-10T01:37:16.981461Z",
     "shell.execute_reply": "2024-11-10T01:37:16.980616Z",
     "shell.execute_reply.started": "2024-11-10T01:37:16.960096Z"
    },
    "trusted": true
   },
   "outputs": [
    {
     "data": {
      "text/html": [
       "<div>\n",
       "<style scoped>\n",
       "    .dataframe tbody tr th:only-of-type {\n",
       "        vertical-align: middle;\n",
       "    }\n",
       "\n",
       "    .dataframe tbody tr th {\n",
       "        vertical-align: top;\n",
       "    }\n",
       "\n",
       "    .dataframe thead th {\n",
       "        text-align: right;\n",
       "    }\n",
       "</style>\n",
       "<table border=\"1\" class=\"dataframe\">\n",
       "  <thead>\n",
       "    <tr style=\"text-align: right;\">\n",
       "      <th></th>\n",
       "      <th>Category</th>\n",
       "      <th>Message</th>\n",
       "    </tr>\n",
       "  </thead>\n",
       "  <tbody>\n",
       "    <tr>\n",
       "      <th>count</th>\n",
       "      <td>5572</td>\n",
       "      <td>5572</td>\n",
       "    </tr>\n",
       "    <tr>\n",
       "      <th>unique</th>\n",
       "      <td>2</td>\n",
       "      <td>5157</td>\n",
       "    </tr>\n",
       "    <tr>\n",
       "      <th>top</th>\n",
       "      <td>ham</td>\n",
       "      <td>Sorry, I'll call later</td>\n",
       "    </tr>\n",
       "    <tr>\n",
       "      <th>freq</th>\n",
       "      <td>4825</td>\n",
       "      <td>30</td>\n",
       "    </tr>\n",
       "  </tbody>\n",
       "</table>\n",
       "</div>"
      ],
      "text/plain": [
       "       Category                 Message\n",
       "count      5572                    5572\n",
       "unique        2                    5157\n",
       "top         ham  Sorry, I'll call later\n",
       "freq       4825                      30"
      ]
     },
     "execution_count": 6,
     "metadata": {},
     "output_type": "execute_result"
    }
   ],
   "source": [
    "df.describe()"
   ]
  },
  {
   "cell_type": "code",
   "execution_count": 7,
   "metadata": {
    "execution": {
     "iopub.execute_input": "2024-11-10T01:37:16.982920Z",
     "iopub.status.busy": "2024-11-10T01:37:16.982575Z",
     "iopub.status.idle": "2024-11-10T01:37:16.990952Z",
     "shell.execute_reply": "2024-11-10T01:37:16.989971Z",
     "shell.execute_reply.started": "2024-11-10T01:37:16.982877Z"
    },
    "trusted": true
   },
   "outputs": [
    {
     "data": {
      "text/plain": [
       "Category\n",
       "ham     4825\n",
       "spam     747\n",
       "Name: count, dtype: int64"
      ]
     },
     "execution_count": 7,
     "metadata": {},
     "output_type": "execute_result"
    }
   ],
   "source": [
    "df[\"Category\"].value_counts()"
   ]
  },
  {
   "cell_type": "code",
   "execution_count": 8,
   "metadata": {
    "execution": {
     "iopub.execute_input": "2024-11-10T01:37:16.993278Z",
     "iopub.status.busy": "2024-11-10T01:37:16.992899Z",
     "iopub.status.idle": "2024-11-10T01:37:17.004113Z",
     "shell.execute_reply": "2024-11-10T01:37:17.003305Z",
     "shell.execute_reply.started": "2024-11-10T01:37:16.993237Z"
    },
    "trusted": true
   },
   "outputs": [
    {
     "data": {
      "text/plain": [
       "Category\n",
       "ham     0.865937\n",
       "spam    0.134063\n",
       "Name: proportion, dtype: float64"
      ]
     },
     "execution_count": 8,
     "metadata": {},
     "output_type": "execute_result"
    }
   ],
   "source": [
    "df[\"Category\"].value_counts(normalize=True)"
   ]
  },
  {
   "cell_type": "code",
   "execution_count": null,
   "metadata": {
    "execution": {
     "iopub.execute_input": "2024-11-10T01:37:17.005615Z",
     "iopub.status.busy": "2024-11-10T01:37:17.005286Z",
     "iopub.status.idle": "2024-11-10T01:37:18.215462Z",
     "shell.execute_reply": "2024-11-10T01:37:18.214562Z",
     "shell.execute_reply.started": "2024-11-10T01:37:17.005584Z"
    },
    "trusted": true
   },
   "outputs": [
    {
     "data": {
      "image/png": "[encoded data removed]",
      "text/plain": [
       "<Figure size 1200x600 with 1 Axes>"
      ]
     },
     "metadata": {},
     "output_type": "display_data"
    }
   ],
   "source": [
    "import matplotlib.pyplot as plt\n",
    "from sklearn.feature_extraction.text import CountVectorizer\n",
    "\n",
    "vectorizer = CountVectorizer(max_features=20, stop_words='english')\n",
    "X_counts = vectorizer.fit_transform(df['Message'])\n",
    "\n",
    "spam_df = df[df['Category'] == \"ham\"]\n",
    "ham_df = df[df['Category'] == \"spam\"]\n",
    "\n",
    "spam_counts = vectorizer.transform(spam_df['Message']).toarray().sum(axis=0)\n",
    "ham_counts = vectorizer.transform(ham_df['Message']).toarray().sum(axis=0)\n",
    "\n",
    "words = vectorizer.get_feature_names_out()\n",
    "x = np.arange(len(words))\n",
    "\n",
    "plt.figure(figsize=(12, 6))\n",
    "plt.bar(x - 0.2, spam_counts, width=0.4, label='Spam', color='orange')\n",
    "plt.bar(x + 0.2, ham_counts, width=0.4, label='Ham', color='blue')\n",
    "plt.xlabel('Words')\n",
    "plt.ylabel('Frequency')\n",
    "plt.title('Top 20 Words in Spam and Ham Emails')\n",
    "plt.xticks(ticks=x, labels=words, rotation=45)\n",
    "plt.legend()\n",
    "plt.show()"
   ]
  },
  {
   "cell_type": "markdown",
   "metadata": {},
   "source": [
    "# Data augmentation"
   ]
  },
  {
   "cell_type": "markdown",
   "metadata": {},
   "source": [
    "Expand Contraction"
   ]
  },
  {
   "cell_type": "code",
   "execution_count": null,
   "metadata": {
    "execution": {
     "iopub.execute_input": "2024-11-10T01:37:18.222738Z",
     "iopub.status.busy": "2024-11-10T01:37:18.222452Z",
     "iopub.status.idle": "2024-11-10T01:37:18.240343Z",
     "shell.execute_reply": "2024-11-10T01:37:18.239656Z",
     "shell.execute_reply.started": "2024-11-10T01:37:18.222707Z"
    },
    "trusted": true
   },
   "outputs": [],
   "source": [
    "import contractions\n",
    "\n",
    "def expand_contractions(text):\n",
    "    expanded_text = contractions.fix(text)\n",
    "    \n",
    "    return expanded_text"
   ]
  },
  {
   "cell_type": "code",
   "execution_count": null,
   "metadata": {
    "execution": {
     "iopub.execute_input": "2024-11-10T01:37:18.241608Z",
     "iopub.status.busy": "2024-11-10T01:37:18.241321Z",
     "iopub.status.idle": "2024-11-10T01:37:18.246329Z",
     "shell.execute_reply": "2024-11-10T01:37:18.245423Z",
     "shell.execute_reply.started": "2024-11-10T01:37:18.241577Z"
    },
    "trusted": true
   },
   "outputs": [
    {
     "name": "stdout",
     "output_type": "stream",
     "text": [
      "Original Text: I can't believe it's already September. He doesn't like it.\n",
      "Expanded Text: I cannot believe it is already September. He does not like it.\n"
     ]
    }
   ],
   "source": [
    "text = \"I can't believe it's already September. He doesn't like it.\"\n",
    "\n",
    "print(\"Original Text:\", text)\n",
    "print(\"Expanded Text:\", expand_contractions(text))"
   ]
  },
  {
   "cell_type": "code",
   "execution_count": null,
   "metadata": {
    "execution": {
     "iopub.execute_input": "2024-11-10T01:37:18.248147Z",
     "iopub.status.busy": "2024-11-10T01:37:18.247517Z",
     "iopub.status.idle": "2024-11-10T01:37:18.379402Z",
     "shell.execute_reply": "2024-11-10T01:37:18.378526Z",
     "shell.execute_reply.started": "2024-11-10T01:37:18.248094Z"
    },
    "trusted": true
   },
   "outputs": [],
   "source": [
    "df[\"Message, expanded\"] = list(map(expand_contractions, df[\"Message\"]))\n",
    "df.to_csv(\"/kaggle/working/spam_enriched.csv\", index=False)"
   ]
  },
  {
   "cell_type": "markdown",
   "metadata": {},
   "source": [
    "## Sentence Shuffling\n",
    "\n",
    "Sentence Shuffling involves shuffling the order of sentences within a text or paragraph. The goal is to provide the model with slightly different versions of the original text to improve its robustness. However, shuffling should be applied carefully to maintain the overall coherence of the text, especially for tasks like language modeling or text classification."
   ]
  },
  {
   "cell_type": "code",
   "execution_count": null,
   "metadata": {
    "execution": {
     "iopub.execute_input": "2024-11-10T01:37:18.383779Z",
     "iopub.status.busy": "2024-11-10T01:37:18.383507Z",
     "iopub.status.idle": "2024-11-10T01:37:26.931170Z",
     "shell.execute_reply": "2024-11-10T01:37:26.930296Z",
     "shell.execute_reply.started": "2024-11-10T01:37:18.383750Z"
    },
    "trusted": true
   },
   "outputs": [],
   "source": [
    "import spacy\n",
    "import random\n",
    "\n",
    "nlp = spacy.load('en_core_web_lg')\n",
    "\n",
    "def sentence_shuffling(text):\n",
    "    doc = nlp(text)\n",
    "    sentences = [sent.text for sent in doc.sents]\n",
    "    \n",
    "    random.shuffle(sentences)\n",
    "    \n",
    "    shuffled_text = ' '.join(sentences)\n",
    "    \n",
    "    return shuffled_text"
   ]
  },
  {
   "cell_type": "code",
   "execution_count": null,
   "metadata": {
    "execution": {
     "iopub.execute_input": "2024-11-10T01:37:26.961721Z",
     "iopub.status.busy": "2024-11-10T01:37:26.961423Z",
     "iopub.status.idle": "2024-11-10T01:38:10.539858Z",
     "shell.execute_reply": "2024-11-10T01:38:10.538841Z",
     "shell.execute_reply.started": "2024-11-10T01:37:26.961690Z"
    },
    "trusted": true
   },
   "outputs": [],
   "source": [
    "df[\"Message, sent_shuflling\"] = list(map(sentence_shuffling, df[\"Message\"]))\n",
    "df.to_csv(\"/kaggle/working/spam_enriched.csv\", index=False)\n"
   ]
  },
  {
   "cell_type": "code",
   "execution_count": null,
   "metadata": {
    "execution": {
     "iopub.execute_input": "2024-11-10T01:38:10.541842Z",
     "iopub.status.busy": "2024-11-10T01:38:10.541237Z",
     "iopub.status.idle": "2024-11-10T01:38:12.370703Z",
     "shell.execute_reply": "2024-11-10T01:38:12.369769Z",
     "shell.execute_reply.started": "2024-11-10T01:38:10.541792Z"
    },
    "trusted": true
   },
   "outputs": [
    {
     "name": "stdout",
     "output_type": "stream",
     "text": [
      "Dataset URL: https://www.kaggle.com/datasets/swayamsinghal/slang-txt\n",
      "License(s): CC-BY-SA-3.0\n",
      "Downloading slang-txt.zip to /kaggle/working\n",
      "  0%|                                               | 0.00/2.46k [00:00<?, ?B/s]\n",
      "100%|██████████████████████████████████████| 2.46k/2.46k [00:00<00:00, 8.63MB/s]\n"
     ]
    }
   ],
   "source": [
    "!kaggle datasets download -d swayamsinghal/slang-txt"
   ]
  },
  {
   "cell_type": "code",
   "execution_count": null,
   "metadata": {
    "execution": {
     "iopub.execute_input": "2024-11-10T01:38:12.372985Z",
     "iopub.status.busy": "2024-11-10T01:38:12.372677Z",
     "iopub.status.idle": "2024-11-10T01:38:12.394225Z",
     "shell.execute_reply": "2024-11-10T01:38:12.393410Z",
     "shell.execute_reply.started": "2024-11-10T01:38:12.372952Z"
    },
    "trusted": true
   },
   "outputs": [
    {
     "data": {
      "text/plain": [
       "{'Abbreviation': 'Full Form',\n",
       " 'abt': 'about',\n",
       " 'abt2': 'about to',\n",
       " 'acc': 'actually',\n",
       " 'add': 'address',\n",
       " 'afaik': 'as far as i know',\n",
       " 'afk': 'away from keyboard',\n",
       " 'aka': 'also known as',\n",
       " 'asap': 'as soon as possible',\n",
       " 'asf': 'as f***',\n",
       " 'asl': 'age, sex, location',\n",
       " 'atm': 'at the moment',\n",
       " 'b': 'bisexual / babe',\n",
       " 'b4': 'before',\n",
       " 'based': 'used when agreeing with something; or recognising someone is being themselves',\n",
       " 'bc': 'because',\n",
       " 'bet': 'okay; affirming something',\n",
       " 'bday': 'birthday',\n",
       " 'blates': 'obviously',\n",
       " 'bf': 'boyfriend/best friend',\n",
       " 'bf4l or bffl': 'best friends for life',\n",
       " 'bff': 'best friends forever',\n",
       " 'boyf': 'boyfriend',\n",
       " 'brb': 'be right back',\n",
       " 'btw': 'by the way',\n",
       " 'cap': 'lie',\n",
       " 'cba': \"can't be bothered\",\n",
       " 'cmb': 'call me back',\n",
       " 'cmon': 'come on',\n",
       " 'ctn': \"can't talk now\",\n",
       " 'cu': 'see you',\n",
       " 'cua': 'see you around',\n",
       " 'cul': 'see you later',\n",
       " 'cya': 'see ya',\n",
       " 'da f/dafuq?': 'what the f***?',\n",
       " 'diss': 'disrespect',\n",
       " 'dkdc': \"don't know, don't care\",\n",
       " 'dl': 'download',\n",
       " 'dm': 'direct message, a form of private messaging',\n",
       " 'dnt': \"don't\",\n",
       " 'ema': 'email address',\n",
       " 'eta': 'estimated time of arrival',\n",
       " 'ez': 'easy',\n",
       " 'f': 'female',\n",
       " 'fam': \"short for 'family', similar to 'bro'\",\n",
       " 'faq': 'frequently asked questions',\n",
       " 'fb': 'facebook',\n",
       " 'finna': \"i'm going to\",\n",
       " 'fire': 'a word to describe something positive',\n",
       " 'fr': 'for real',\n",
       " 'fuq': 'f***',\n",
       " 'fuqn': 'f***ing',\n",
       " 'fwb': 'friends with benefits',\n",
       " 'fwd': 'forward',\n",
       " 'fyi': 'for your information',\n",
       " 'g': 'gay',\n",
       " 'g2cu': 'good to see you',\n",
       " 'g2g': 'got to go',\n",
       " 'g2r': 'got to run',\n",
       " 'gamer': 'video game player',\n",
       " 'gf': 'girlfriend',\n",
       " 'gg': 'good game',\n",
       " 'gj': 'good job',\n",
       " 'gl': 'good luck',\n",
       " 'glhf': 'good luck have fun',\n",
       " 'goat': 'greatest of all time',\n",
       " 'gnite': 'good night',\n",
       " 'gr8': 'great',\n",
       " 'gratz': 'congratulations',\n",
       " 'gtfoh': 'get the f*** outta here',\n",
       " 'gtg': 'got to go',\n",
       " 'gud': 'good',\n",
       " 'gyat': \"referencing the size of someone's back end\",\n",
       " 'h8': 'hate',\n",
       " 'hella': 'really',\n",
       " 'hits different': 'something that affects you in a particular way',\n",
       " 'hv': 'have',\n",
       " 'hw': 'homework',\n",
       " 'hbd': 'happy birthday',\n",
       " 'ib': \"i'm back\",\n",
       " 'ic': 'i see',\n",
       " 'idc': \"i don't care\",\n",
       " 'idk': \"i don't know\",\n",
       " 'ig': 'i guess or instagram',\n",
       " 'iirc': 'if i remember correctly',\n",
       " 'ikr': 'i know right?',\n",
       " 'ilu': 'i love you',\n",
       " 'ily': 'i love you',\n",
       " 'im': 'instant message',\n",
       " 'imho': 'in my humble opinion',\n",
       " 'imo': 'in my opinion',\n",
       " 'insta': 'instagram',\n",
       " 'irl': 'in real life',\n",
       " \"it's giving\": 'used to describe something',\n",
       " 'iykyk': 'if you know, you know',\n",
       " 'jk': 'just kidding',\n",
       " 'k': 'okay',\n",
       " 'kewl': 'cool',\n",
       " 'kthnx': 'ok, thanks',\n",
       " 'l': 'lesbian',\n",
       " 'take the l': 'loss',\n",
       " 'l8': 'late',\n",
       " 'l8r': 'later',\n",
       " 'let them cook': 'give someone time and space to do something you know they can do',\n",
       " 'lit': 'it describes something as positive',\n",
       " 'lmao': 'laughing my a** off',\n",
       " 'lol': 'laugh out loud',\n",
       " 'lolll': 'laugh out loud a lot',\n",
       " 'luv ya': 'love you',\n",
       " 'm': 'male',\n",
       " 'm.i.r.l': 'meet in real life',\n",
       " 'mkay': 'mmm, okay',\n",
       " 'mmo': 'massively multiplayer online',\n",
       " 'mmorpg': 'massively multiplayer online role-playing game',\n",
       " 'msg': 'message',\n",
       " 'mwah': 'to give a kiss',\n",
       " 'nan': 'not available or not applicable',\n",
       " 'n2m': 'nothing too much',\n",
       " 'nbd': 'no big deal',\n",
       " 'ne': 'any',\n",
       " 'ne1': 'anyone',\n",
       " 'nm': 'not much / nothing much / never mind',\n",
       " 'no cap': 'no lie',\n",
       " 'noob': 'inexperienced gamer or online community user',\n",
       " 'np': 'no problem',\n",
       " 'nthng': 'nothing',\n",
       " 'nvr': 'never',\n",
       " 'nw': 'no worries',\n",
       " 'oic': 'oh, i see',\n",
       " 'om': 'oh my',\n",
       " 'omg': 'oh my god',\n",
       " 'omw': 'on my way',\n",
       " 'onl': 'online',\n",
       " 'ot': 'off topic',\n",
       " 'ova': 'over',\n",
       " 'peak': 'unfortunate',\n",
       " 'peeps': 'people',\n",
       " 'pic': 'picture',\n",
       " 'pir': 'parent in room',\n",
       " 'pk': 'player kill',\n",
       " 'pls': 'please',\n",
       " 'plz': 'please',\n",
       " 'pm': 'private message',\n",
       " 'pmsl': 'peeing myself laughing',\n",
       " 'pov': 'point of view',\n",
       " 'ppl': 'people',\n",
       " 'prolly': 'probably',\n",
       " 'pwn': 'own, as in conquer or defeat',\n",
       " 'pwned': 'owned, as in conquered or defeated',\n",
       " 'qt': 'cutie',\n",
       " 'qtpi': 'cutie pie',\n",
       " 'r': 'are or our',\n",
       " 'riz/rizz': 'charisma',\n",
       " 'rizzler': 'someone who is good at flirting because they have rizz',\n",
       " 'rly': 'really',\n",
       " 'rofl': 'rolling on the floor laughing',\n",
       " 'rpg': 'role playing game',\n",
       " 'ru': 'are you?',\n",
       " 'ruok': 'are you okay?',\n",
       " 'sec': 'second',\n",
       " 'seggs': 'sex',\n",
       " 'ship': 'imagining people together',\n",
       " 'simp': 'someone who does too much for their crush often used in sexist context against men',\n",
       " 'simping': ' someone who does too much for their crush often used in sexist context against men',\n",
       " 'skibidi': 'a reference to a video about an army of toilets taking over the world',\n",
       " 'skl': 'school',\n",
       " 'sksksk': 'laughter sounds',\n",
       " 'slaps': 'describing something as good',\n",
       " 'smh': 'shaking my head',\n",
       " 'sms': 'short message service',\n",
       " 'so': 'significant other',\n",
       " 'sob': 'son of a b*tch',\n",
       " 'sos': 'help',\n",
       " 'spk': 'speak',\n",
       " 'srs': 'serious',\n",
       " 'srsbsns': 'serious business',\n",
       " 'srsly': 'seriously',\n",
       " 'sry': 'sorry',\n",
       " 'stan': 'being a fan of someone',\n",
       " 'str8': 'straight',\n",
       " 'sup': \"what's up\",\n",
       " 'sus': 'suspicious',\n",
       " 'sux': 'sucks or “it sucks”',\n",
       " 'swag': \"boasting about one's skills or style\",\n",
       " 'tbh': 'to be honest',\n",
       " 'tc': 'take care',\n",
       " 'tea': 'gossip',\n",
       " 'tgif': \"thank god it's friday\",\n",
       " 'thanq': 'thank you',\n",
       " 'thx': 'thanks',\n",
       " 'tmi': 'too much information',\n",
       " 'trans': 'transsexual',\n",
       " 't*': 'transsexual',\n",
       " 't+': 'transsexual',\n",
       " 'ttfn': 'ta-ta for now',\n",
       " 'ttyl': 'talk to you later',\n",
       " 'tweet': 'twitter post',\n",
       " 'txt': 'text',\n",
       " 'ty': 'thank you',\n",
       " 'u': 'you',\n",
       " 'u2': 'you too',\n",
       " 'ul': 'upload',\n",
       " 'unalive': 'kill',\n",
       " 'ur': \"your or you're\",\n",
       " 'vm': 'voicemail',\n",
       " 'w': 'win',\n",
       " 'w@': 'what?',\n",
       " 'w/': 'with',\n",
       " 'w/e': 'whatever or weekend',\n",
       " 'w/o': 'without',\n",
       " 'w8': 'wait',\n",
       " 'wag1': \"what's up\",\n",
       " 'wbu': 'what about you?',\n",
       " 'wk': 'week',\n",
       " 'wrk': 'work',\n",
       " 'wtf': 'what the f***',\n",
       " 'wtg': 'way to go',\n",
       " 'wyd': 'what are you doing?',\n",
       " 'wysiwyg': 'what you see is what you get',\n",
       " 'x': 'kiss',\n",
       " 'y?': 'why?',\n",
       " 'yeet': 'to throw something',\n",
       " 'yktv': 'you know the vibe',\n",
       " 'yolo': 'you only live once',\n",
       " 'yr': 'your',\n",
       " 'yw': \"you're welcome\",\n",
       " 'gen z': 'people born from around 1997-2012',\n",
       " 'za': 'pizza',\n",
       " '2': 'to',\n",
       " '24/7': 'twenty-four hours a day, seven days a week'}"
      ]
     },
     "execution_count": 18,
     "metadata": {},
     "output_type": "execute_result"
    }
   ],
   "source": [
    "import csv\n",
    "\n",
    "filename = '/kaggle/input/slang-txt/Slang Text.csv'\n",
    "\n",
    "slangs = {}\n",
    "with open(filename,'r') as data:\n",
    "   for line in csv.reader(data):\n",
    "      slangs[line[0]] = line[1]\n",
    "\n",
    "slangs"
   ]
  },
  {
   "cell_type": "code",
   "execution_count": null,
   "metadata": {
    "execution": {
     "iopub.execute_input": "2024-11-10T01:38:12.396131Z",
     "iopub.status.busy": "2024-11-10T01:38:12.395424Z",
     "iopub.status.idle": "2024-11-10T01:38:12.401033Z",
     "shell.execute_reply": "2024-11-10T01:38:12.400197Z",
     "shell.execute_reply.started": "2024-11-10T01:38:12.396097Z"
    },
    "trusted": true
   },
   "outputs": [],
   "source": [
    "import re\n",
    "\n",
    "def replace_slang(text, slang_dict):\n",
    "    pattern = re.compile(r'\\b(' + '|'.join(re.escape(key) for key in slang_dict.keys()) + r')\\b')\n",
    "    \n",
    "    formal_text = pattern.sub(lambda x: slang_dict[x.group()], str.lower(text))\n",
    "    \n",
    "    return formal_text"
   ]
  },
  {
   "cell_type": "code",
   "execution_count": null,
   "metadata": {
    "execution": {
     "iopub.execute_input": "2024-11-10T01:38:12.402670Z",
     "iopub.status.busy": "2024-11-10T01:38:12.402375Z",
     "iopub.status.idle": "2024-11-10T01:38:12.414316Z",
     "shell.execute_reply": "2024-11-10T01:38:12.413399Z",
     "shell.execute_reply.started": "2024-11-10T01:38:12.402638Z"
    },
    "trusted": true
   },
   "outputs": [
    {
     "name": "stdout",
     "output_type": "stream",
     "text": [
      "Original Text: I'm abt2 going cuz it's not too cold. Asap\n",
      "After Slang Replacement: i'male about to going cuz it's not too cold. as soon as possible\n"
     ]
    }
   ],
   "source": [
    "informal_text = \"I'm abt2 going cuz it's not too cold. Asap\"\n",
    "\n",
    "formal_text = replace_slang(informal_text, slangs)\n",
    "\n",
    "print(\"Original Text:\", informal_text)\n",
    "print(\"After Slang Replacement:\", formal_text)"
   ]
  },
  {
   "cell_type": "code",
   "execution_count": null,
   "metadata": {
    "execution": {
     "iopub.execute_input": "2024-11-10T01:38:12.416145Z",
     "iopub.status.busy": "2024-11-10T01:38:12.415563Z",
     "iopub.status.idle": "2024-11-10T01:38:13.686978Z",
     "shell.execute_reply": "2024-11-10T01:38:13.686045Z",
     "shell.execute_reply.started": "2024-11-10T01:38:12.416098Z"
    },
    "trusted": true
   },
   "outputs": [],
   "source": [
    "from itertools import repeat\n",
    "\n",
    "df[\"Message, slang_replacment\"] = list(map(replace_slang, df[\"Message\"], repeat(slangs)))\n",
    "df.to_csv(fname_out, index=False)"
   ]
  },
  {
   "cell_type": "markdown",
   "metadata": {},
   "source": [
    "### Synonym Replacement with spacy\n"
   ]
  },
  {
   "cell_type": "code",
   "execution_count": null,
   "metadata": {
    "execution": {
     "iopub.execute_input": "2024-11-10T01:38:13.688477Z",
     "iopub.status.busy": "2024-11-10T01:38:13.688161Z",
     "iopub.status.idle": "2024-11-10T01:38:15.844689Z",
     "shell.execute_reply": "2024-11-10T01:38:15.843530Z",
     "shell.execute_reply.started": "2024-11-10T01:38:13.688445Z"
    },
    "trusted": true
   },
   "outputs": [
    {
     "name": "stdout",
     "output_type": "stream",
     "text": [
      "[nltk_data] Downloading package wordnet to /usr/share/nltk_data...\n",
      "[nltk_data]   Package wordnet is already up-to-date!\n",
      "Archive:  /usr/share/nltk_data/corpora/wordnet.zip\n",
      "   creating: /usr/share/nltk_data/corpora/wordnet/\n",
      "  inflating: /usr/share/nltk_data/corpora/wordnet/lexnames  \n",
      "  inflating: /usr/share/nltk_data/corpora/wordnet/data.verb  \n",
      "  inflating: /usr/share/nltk_data/corpora/wordnet/index.adv  \n",
      "  inflating: /usr/share/nltk_data/corpora/wordnet/adv.exc  \n",
      "  inflating: /usr/share/nltk_data/corpora/wordnet/index.verb  \n",
      "  inflating: /usr/share/nltk_data/corpora/wordnet/cntlist.rev  \n",
      "  inflating: /usr/share/nltk_data/corpora/wordnet/data.adj  \n",
      "  inflating: /usr/share/nltk_data/corpora/wordnet/index.adj  \n",
      "  inflating: /usr/share/nltk_data/corpora/wordnet/LICENSE  \n",
      "  inflating: /usr/share/nltk_data/corpora/wordnet/citation.bib  \n",
      "  inflating: /usr/share/nltk_data/corpora/wordnet/noun.exc  \n",
      "  inflating: /usr/share/nltk_data/corpora/wordnet/verb.exc  \n",
      "  inflating: /usr/share/nltk_data/corpora/wordnet/README  \n",
      "  inflating: /usr/share/nltk_data/corpora/wordnet/index.sense  \n",
      "  inflating: /usr/share/nltk_data/corpora/wordnet/data.noun  \n",
      "  inflating: /usr/share/nltk_data/corpora/wordnet/data.adv  \n",
      "  inflating: /usr/share/nltk_data/corpora/wordnet/index.noun  \n",
      "  inflating: /usr/share/nltk_data/corpora/wordnet/adj.exc  \n"
     ]
    }
   ],
   "source": [
    "import spacy\n",
    "import nltk\n",
    "from nltk.corpus import wordnet as wn\n",
    "\n",
    "nltk.download('punkt')\n",
    "\n",
    "!unzip /usr/share/nltk_data/corpora/punkt.zip -d /usr/share/nltk_data/corpora/"
   ]
  },
  {
   "cell_type": "code",
   "execution_count": null,
   "metadata": {
    "execution": {
     "iopub.execute_input": "2024-11-10T01:38:15.846572Z",
     "iopub.status.busy": "2024-11-10T01:38:15.846238Z",
     "iopub.status.idle": "2024-11-10T01:38:20.586832Z",
     "shell.execute_reply": "2024-11-10T01:38:20.585779Z",
     "shell.execute_reply.started": "2024-11-10T01:38:15.846538Z"
    },
    "trusted": true
   },
   "outputs": [
    {
     "name": "stdout",
     "output_type": "stream",
     "text": [
      "Original: I love programming in Python.\n",
      "Modified: atomic_number_53 lovemaking programing In python .\n",
      "\n",
      "Original: Natural language processing is fascinating.\n",
      "Modified: rude spoken_communication swear_out constitute captivating .\n",
      "\n"
     ]
    }
   ],
   "source": [
    "nlp = spacy.load('en_core_web_lg')\n",
    "\n",
    "def get_synonyms(word):\n",
    "    synonyms = set()\n",
    "    for syn in wn.synsets(word):\n",
    "        for lemma in syn.lemmas():\n",
    "            synonyms.add(lemma.name())\n",
    "    synonyms.discard(word)  \n",
    "    return list(synonyms)\n",
    "\n",
    "def replace_synonyms(text):\n",
    "    doc = nlp(text)\n",
    "    new_text = []\n",
    "    for token in doc:\n",
    "        synonyms = get_synonyms(token.text)\n",
    "        if synonyms:\n",
    "            new_word = synonyms[np.random.randint(0, len(synonyms))]\n",
    "            new_text.append(new_word)\n",
    "        else:\n",
    "            new_text.append(token.text)\n",
    "    return ' '.join(new_text)\n",
    "\n",
    "def process_samples(samples):\n",
    "    return [replace_synonyms(sample) for sample in samples]\n",
    "\n",
    "samples = [\n",
    "    \"I love programming in Python.\",\n",
    "    \"Natural language processing is fascinating.\",\n",
    "]\n",
    "\n",
    "new_samples = process_samples(samples)\n",
    "\n",
    "for original, new in zip(samples, new_samples):\n",
    "    print(f\"Original: {original}\")\n",
    "    print(f\"Modified: {new}\")\n",
    "    print()"
   ]
  },
  {
   "cell_type": "markdown",
   "metadata": {},
   "source": [
    "It creates something ugly/ununderstandable, let's improve it by replacing only nouns, verbs, adjectives, and adverbs.  \n",
    "And let's add spacy similarity to find the best similar synonym from the nltk wordnet corpus."
   ]
  },
  {
   "cell_type": "code",
   "execution_count": null,
   "metadata": {
    "execution": {
     "iopub.execute_input": "2024-11-10T01:38:20.588611Z",
     "iopub.status.busy": "2024-11-10T01:38:20.588256Z",
     "iopub.status.idle": "2024-11-10T01:38:23.069722Z",
     "shell.execute_reply": "2024-11-10T01:38:23.068675Z",
     "shell.execute_reply.started": "2024-11-10T01:38:20.588574Z"
    },
    "trusted": true
   },
   "outputs": [],
   "source": [
    "nlp = spacy.load('en_core_web_lg')\n",
    "\n",
    "def get_wordnet_pos(spacy_pos):\n",
    "    \"\"\"Convert spaCy POS tags to WordNet POS tags.\"\"\"\n",
    "    if spacy_pos == 'NOUN':\n",
    "        return wn.NOUN\n",
    "    elif spacy_pos == 'VERB':\n",
    "        return wn.VERB\n",
    "    elif spacy_pos == 'ADJ':\n",
    "        return wn.ADJ\n",
    "    elif spacy_pos == 'ADV':\n",
    "        return wn.ADV\n",
    "    else:\n",
    "        return None\n",
    "\n",
    "def get_synonyms_nltk(word):\n",
    "    synonyms = set()\n",
    "    wn_pos = get_wordnet_pos(word.pos_)\n",
    "    if wn_pos:\n",
    "        for syn in wn.synsets(word.text, pos=wn_pos):\n",
    "            for lemma in syn.lemmas():\n",
    "                synonyms.add(lemma.name())\n",
    "    synonyms.discard(word.text)\n",
    "    \n",
    "    return list(synonyms)\n",
    "\n",
    "def get_best_synonym(token):\n",
    "    synonyms = get_synonyms_nltk(token)\n",
    "    \n",
    "    if not synonyms:\n",
    "        return token.text\n",
    "    \n",
    "    synonym_docs = [nlp(syn) for syn in synonyms]\n",
    "    \n",
    "    similarity_scores = [token.similarity(syn_doc) for syn_doc in synonym_docs]\n",
    "     \n",
    "    best_synonym = synonyms[similarity_scores.index(max(similarity_scores))]\n",
    "\n",
    "    return best_synonym\n",
    "\n",
    "def replace_synonyms_in_sentence(text):\n",
    "    doc = nlp(text)\n",
    "    new_text = text\n",
    "    \n",
    "    for token in doc:\n",
    "        if token.pos_ in ('NOUN', 'VERB', 'ADJ', 'ADV'):\n",
    "            new_word = get_best_synonym(token)\n",
    "            new_text = new_text.replace(token.text, new_word)\n",
    "        else:\n",
    "            pass\n",
    "    \n",
    "    return new_text"
   ]
  },
  {
   "cell_type": "code",
   "execution_count": null,
   "metadata": {
    "execution": {
     "iopub.execute_input": "2024-11-10T01:38:23.071426Z",
     "iopub.status.busy": "2024-11-10T01:38:23.071031Z",
     "iopub.status.idle": "2024-11-10T01:38:23.380170Z",
     "shell.execute_reply": "2024-11-10T01:38:23.379238Z",
     "shell.execute_reply.started": "2024-11-10T01:38:23.071357Z"
    },
    "trusted": true
   },
   "outputs": [
    {
     "name": "stdout",
     "output_type": "stream",
     "text": [
      "sample: I love programming in Python.\n",
      "new_sample: I enjoy program in Python. \n",
      "\n",
      "sample: Natural language processing is fascinating.\n",
      "new_sample: natural terminology processing is captivating. \n",
      "\n"
     ]
    },
    {
     "name": "stderr",
     "output_type": "stream",
     "text": [
      "/tmp/ipykernel_35/2163421125.py:51: UserWarning: [W008] Evaluating Token.similarity based on empty vectors.\n",
      "  similarity_scores = [token.similarity(syn_doc) for syn_doc in synonym_docs]\n"
     ]
    }
   ],
   "source": [
    "def debug_replace_synonyms_in_sentence(samples):\n",
    "        \n",
    "    new_samples = []\n",
    "\n",
    "    for sample in samples:\n",
    "        print(f\"sample: {sample}\")\n",
    "        new_sample = replace_synonyms_in_sentence(sample)\n",
    "        print(f\"new_sample: {new_sample} \\n\")\n",
    "        new_samples += [new_sample]\n",
    "    \n",
    "    return new_samples\n",
    "\n",
    "samples = [\n",
    "    \"I love programming in Python.\",\n",
    "    \"Natural language processing is fascinating.\",\n",
    "]\n",
    "\n",
    "# Process the list of samples\n",
    "new_samples = debug_replace_synonyms_in_sentence(samples)"
   ]
  },
  {
   "cell_type": "markdown",
   "metadata": {},
   "source": [
    "Not perfect. But much much better! Let's use it to create additional samples in our original dataset.\n",
    "\n",
    "Next cell takes time (~1 hour on standard kaggle 3GiB RAM CPU) since we have more than 5500 samples and many many words inside."
   ]
  },
  {
   "cell_type": "code",
   "execution_count": null,
   "metadata": {
    "execution": {
     "iopub.execute_input": "2024-11-10T01:38:23.381616Z",
     "iopub.status.busy": "2024-11-10T01:38:23.381282Z"
    },
    "trusted": true
   },
   "outputs": [
    {
     "name": "stderr",
     "output_type": "stream",
     "text": [
      "/tmp/ipykernel_35/2163421125.py:51: UserWarning: [W008] Evaluating Token.similarity based on empty vectors.\n",
      "  similarity_scores = [token.similarity(syn_doc) for syn_doc in synonym_docs]\n"
     ]
    }
   ],
   "source": [
    "df[\"Message, synonymized\"] = list(map(replace_synonyms_in_sentence, df[\"Message\"]))\n",
    "df.to_csv(\"/kaggle/working/spam_enriched.csv\", index=False)"
   ]
  },
  {
   "cell_type": "code",
   "execution_count": null,
   "metadata": {
    "trusted": true
   },
   "outputs": [],
   "source": [
    "import random\n",
    "\n",
    "def get_synonyms_spacy(word):\n",
    "    synonyms = []\n",
    "    for syn in word.vocab.vectors.most_similar(word.vector.reshape(1, word.vector.shape[0]), n=10)[0][0]:\n",
    "        synonym = nlp.vocab[syn].text\n",
    "        if synonym != word.text:  # Avoid the original word\n",
    "            synonyms.append(synonym)\n",
    "    return synonyms\n",
    "\n",
    "def random_insertion(text, n=1):\n",
    "    doc = nlp(text)\n",
    "    \n",
    "    non_stop_words = [token.text for token in doc if not token.is_stop and token.pos_ not in ['PUNCT', 'SPACE']]\n",
    "    \n",
    "    if len(non_stop_words) == 0:  # If no valid words to insert\n",
    "        return text\n",
    "    \n",
    "    new_sentence = text.split()\n",
    "    \n",
    "    for _ in range(n):\n",
    "        random_word = random.choice(non_stop_words)\n",
    "        \n",
    "        token = nlp(random_word)[0]\n",
    "        synonyms = get_synonyms_spacy(token)\n",
    "        \n",
    "        if synonyms:\n",
    "            synonym = random.choice(synonyms)\n",
    "            insert_position = random.randint(0, len(new_sentence))\n",
    "            new_sentence.insert(insert_position, synonym)\n",
    "    \n",
    "    return ' '.join(new_sentence)"
   ]
  },
  {
   "cell_type": "code",
   "execution_count": null,
   "metadata": {
    "trusted": true
   },
   "outputs": [],
   "source": [
    "text = \"The quick brown fox jumps over the lazy dog.\"\n",
    "augmented_text = random_insertion(text, n=2)\n",
    "print(\"Original:\", text)\n",
    "print(\"Augmented:\", augmented_text)"
   ]
  },
  {
   "cell_type": "code",
   "execution_count": null,
   "metadata": {
    "trusted": true
   },
   "outputs": [],
   "source": [
    "# takes an ~2h on standard kaggle CPU with 3GiB RAM\n",
    "df[\"Message, rand_inserted\"] = list(map(random_insertion, df[\"Message\"]))\n",
    "df.to_csv(\"/kaggle/working/spam_enriched.csv\", index=False)\n",
    "# 81m37s on hp laptop"
   ]
  },
  {
   "cell_type": "markdown",
   "metadata": {},
   "source": [
    "### Random deletion\n",
    "\n",
    "Randomly delete some words within sentences."
   ]
  },
  {
   "cell_type": "code",
   "execution_count": null,
   "metadata": {
    "trusted": true
   },
   "outputs": [],
   "source": [
    "import random\n",
    "\n",
    "# Function to randomly delete a word\n",
    "def delete_random_word(raw_text, prob=0.2):\n",
    "    # Split input text by space\n",
    "    words = raw_text.split()\n",
    "    # Calculate number of words to delete from text\n",
    "    n_words_to_delete = int(len(words) * prob)\n",
    "\n",
    "    # Proceed with deletation\n",
    "    for i in range(n_words_to_delete):\n",
    "        word_ind_to_del = random.randint(0, len(words)-1)\n",
    "        del words[word_ind_to_del]\n",
    "    \n",
    "    return \" \".join(words)"
   ]
  },
  {
   "cell_type": "code",
   "execution_count": null,
   "metadata": {
    "trusted": true
   },
   "outputs": [],
   "source": [
    "# Example usage\n",
    "text = \"The quick brown fox jumps over the lazy dog.\"\n",
    "text_updated = delete_random_word(text, prob=0.3)\n",
    "print(\"Original:\", text)\n",
    "print(\"Noisy:\", text_updated)"
   ]
  },
  {
   "cell_type": "code",
   "execution_count": null,
   "metadata": {
    "trusted": true
   },
   "outputs": [],
   "source": [
    "df[\"Message, rand_deleted\"] = list(map(delete_random_word, df[\"Message\"]))\n",
    "df.to_csv(\"/kaggle/working/spam_enriched.csv\", index=False)\n",
    "# 0.1s on hp laptop"
   ]
  },
  {
   "cell_type": "markdown",
   "metadata": {},
   "source": [
    "### Random Swap\n",
    "\n",
    "Two words from a sentence are randomly selected and their positions are swapped"
   ]
  },
  {
   "cell_type": "code",
   "execution_count": null,
   "metadata": {
    "trusted": true
   },
   "outputs": [],
   "source": [
    "def random_swap(text, n=1):\n",
    "    \"\"\"Split the sentence into words (punctuation marks here belong \n",
    "        to words, if you want to treat them separately it is possible\n",
    "        by using regular expression or nltk/spacy/etc lib solution)\n",
    "    \"\"\"\n",
    "    words = text.split()\n",
    "    \n",
    "    # Perform n swaps\n",
    "    for _ in range(n):\n",
    "        # Ensure there are at least two words to swap\n",
    "        if len(words) < 2:\n",
    "            return text\n",
    "        \n",
    "        # Randomly select two different indices to swap\n",
    "        idx1, idx2 = random.sample(range(len(words)), 2)\n",
    "        \n",
    "        # Swap the words at the selected indices\n",
    "        words[idx1], words[idx2] = words[idx2], words[idx1]\n",
    "    \n",
    "    # Join the words back into a sentence\n",
    "    return ' '.join(words)"
   ]
  },
  {
   "cell_type": "code",
   "execution_count": null,
   "metadata": {
    "trusted": true
   },
   "outputs": [],
   "source": [
    "# Example usage\n",
    "text = \"The quick brown fox jumps over the lazy dog.\"\n",
    "augmented_text = random_swap(text, n=2)\n",
    "print(\"Original:\", text)\n",
    "print(\"Augmented:\", augmented_text)"
   ]
  },
  {
   "cell_type": "code",
   "execution_count": null,
   "metadata": {
    "trusted": true
   },
   "outputs": [],
   "source": [
    "# Run on email dataset\n",
    "df[\"Message, rand_swap\"] = list(map(random_swap, df[\"Message\"]))\n",
    "df.to_csv(\"/kaggle/working/spam_enriched.csv\", index=False)\n",
    "# 0.1s on hp laptop"
   ]
  },
  {
   "cell_type": "markdown",
   "metadata": {},
   "source": [
    "## Paraphrasing BART\n",
    "\n",
    "Sentence rephrasing using BART model from HuggingFace."
   ]
  },
  {
   "cell_type": "code",
   "execution_count": null,
   "metadata": {
    "trusted": true
   },
   "outputs": [],
   "source": [
    "from transformers import pipeline\n",
    "import torch\n",
    "\n",
    "# Choose the model from HyggingFace\n",
    "model = \"facebook/bart-large-cnn\"\n",
    "\n",
    "# Check if GPU is available\n",
    "device = 'cuda' if torch.cuda.is_available() else 'cpu'\n",
    "\n",
    "# Load the paraphrase model (BART or T5 are popular for paraphrasing)\n",
    "paraphrase_pipeline = pipeline(\"text2text-generation\", \n",
    "                               model=model, \n",
    "                               device=device,\n",
    "                               clean_up_tokenization_spaces = True)\n",
    "\n",
    "def paraphrase_text(doc):\n",
    "    \"\"\"\n",
    "    Paraphrase the given text and return multiple variations.\n",
    "    \n",
    "    Args:\n",
    "        doc (str): Input text to paraphrase.\n",
    "    \n",
    "    Returns:\n",
    "        list: A list of paraphrased docs.\n",
    "    \"\"\"\n",
    "    # Generate paraphrased versions\n",
    "    paraphrased = paraphrase_pipeline(doc, do_sample=True)\n",
    "    #print(f'pipeline output: {paraphrased[0][\"generated_text\"]}')\n",
    "   \n",
    "    return paraphrased[0][\"generated_text\"]\n"
   ]
  },
  {
   "cell_type": "code",
   "execution_count": null,
   "metadata": {
    "trusted": true
   },
   "outputs": [],
   "source": [
    "# Example sentence\n",
    "sentence = \"Data augmentation helps in improving the performance of machine learning models. \\\n",
    "For more information check HuggingFace.\"\n",
    "\n",
    "# Get paraphrased sentences\n",
    "paraphrased_sentences = paraphrase_text(sentence)\n",
    "print(f\"Paraphrased: {paraphrased_sentences}\")"
   ]
  },
  {
   "cell_type": "code",
   "execution_count": null,
   "metadata": {
    "trusted": true
   },
   "outputs": [],
   "source": [
    "# Process email dataset in batches \n",
    "\n",
    "# Batch size\n",
    "batch_size = 500\n",
    "# Initiate empty paraphrased message\n",
    "df[\"Message, paraphrased\"] = ''\n",
    "\n",
    "# Loop through the list in batches\n",
    "for i in range(0, len(df), batch_size):\n",
    "    paraphrased = paraphrase_pipeline(list(df.loc[i:i+batch_size-1, \"Message\"]), do_sample=True)\n",
    "    df.loc[i:i+batch_size-1, \"Message, paraphrased\"] = list([d[\"generated_text\"] for d in paraphrased])\n",
    "\n",
    "# Save batch results\n",
    "df.to_csv(\"/kaggle/working/spam_enriched.csv\", index=False)"
   ]
  },
  {
   "cell_type": "code",
   "execution_count": null,
   "metadata": {
    "trusted": true
   },
   "outputs": [],
   "source": [
    "import gc\n",
    "\n",
    "# Remove pipeline and free CPU/GPU memory\n",
    "del paraphrase_pipeline\n",
    "gc.collect()\n",
    "if device == 'cuda': torch.cuda.empty_cache() \n"
   ]
  },
  {
   "cell_type": "markdown",
   "metadata": {},
   "source": [
    "## Back Translation\n",
    "\n",
    "models: `Helsinki-NLP/opus-mt-en-uk` and `Helsinki-NLP/opus-mt-uk-en`"
   ]
  },
  {
   "cell_type": "code",
   "execution_count": null,
   "metadata": {
    "trusted": true
   },
   "outputs": [],
   "source": [
    "from transformers import pipeline\n",
    "# Define device\n",
    "device = 'cuda' if torch.cuda.is_available() else 'cpu'\n",
    "\n",
    "# Define pipelines out of the method so in case it will be used in the look it will not load every time\n",
    "translator_en_uk = pipeline(\"translation_en_to_uk\", \n",
    "                            model=\"Helsinki-NLP/opus-mt-en-uk\", \n",
    "                            clean_up_tokenization_spaces=True,\n",
    "                            device=device)\n",
    "translator_uk_en = pipeline(\"translation_uk_to_en\",\n",
    "                            model=\"Helsinki-NLP/opus-mt-uk-en\",\n",
    "                            clean_up_tokenization_spaces=True,\n",
    "                            device=device)\n",
    "\n",
    "def generate_back_translations(texts):\n",
    "    \"\"\"\n",
    "    Tranlate English text into Ukrainian and then back into English.\n",
    "    \n",
    "    Args:\n",
    "        doc (str): Input text for back translation.\n",
    "    \n",
    "    Returns:\n",
    "        uk_transl, en_transl (tuple): A tuple with Ukrainian and back translated English text.\n",
    "    \"\"\"\n",
    "    # Tranlate English text into Ukrainian\n",
    "    uk_translations = translator_en_uk(texts)\n",
    "    uk_translations_list = [d['translation_text'] for d in uk_translations]\n",
    "    # Translate Ukrainian text back into English\n",
    "    en_back_transl = translator_uk_en(uk_translations_list)\n",
    "    en_back_transl_list = [d['translation_text'] for d in en_back_transl]\n",
    "\n",
    "    return uk_translations_list, en_back_transl_list\n"
   ]
  },
  {
   "cell_type": "code",
   "execution_count": null,
   "metadata": {
    "trusted": true
   },
   "outputs": [],
   "source": [
    "# Example sentence\n",
    "text = \"The quick brown fox jumps over the lazy dog.\"\n",
    "uk_translation, back_translated = generate_back_translations(text)\n",
    "\n",
    "print(f\"Original text in English: {text}\")\n",
    "print(f\"Ukrainian translation: {uk_translation[0]}\")\n",
    "print(f\"Back translated text in English: {back_translated[0]}\")"
   ]
  },
  {
   "cell_type": "code",
   "execution_count": null,
   "metadata": {
    "trusted": true
   },
   "outputs": [],
   "source": [
    "# Run on email dataset\n",
    "uk_translations, df[\"Message, back_translated\"] = generate_back_translations(list(df[\"Message\"]))\n",
    "df.to_csv(\"/kaggle/working/spam_enriched.csv\", index=False)\n",
    "\n",
    "# Remove pipeline and free CPU/GPU memory\n",
    "del translator_en_uk, translator_uk_en\n",
    "gc.collect()\n",
    "if device == 'cuda': torch.cuda.empty_cache() "
   ]
  },
  {
   "cell_type": "markdown",
   "metadata": {},
   "source": [
    "## Text Generation using Language Models\n",
    "\n",
    "Text generation in the context of Natural Language Processing (NLP) data augmentation involves creating new text samples based on existing data. It is particularly useful when there is a limited amount of labeled data available for training machine learning models. By generating synthetic data, models can be trained on a more diverse set of inputs, which can improve their generalization ability."
   ]
  },
  {
   "cell_type": "code",
   "execution_count": null,
   "metadata": {
    "trusted": true
   },
   "outputs": [],
   "source": [
    "import torch\n",
    "from transformers import GPT2LMHeadModel, GPT2Tokenizer\n",
    "\n",
    "device = 'cuda' if torch.cuda.is_available() else 'cpu'\n",
    "\n",
    "# Load pre-trained GPT-2 model and tokenizer\n",
    "model_name = 'gpt2-large'  # You can use 'gpt2-medium', 'gpt2-large', etc.\n",
    "model = GPT2LMHeadModel.from_pretrained(model_name)\n",
    "tokenizer = GPT2Tokenizer.from_pretrained(model_name, device=device, clean_up_tokenization_spaces=True)\n",
    "\n",
    "# Set the model in evaluation mode (for inference)\n",
    "model.eval()\n",
    "\n",
    "def generate_text_using_llm(start_text, max_new_tokens):\n",
    "\n",
    "    # Tokenize the input text and create attention mask\n",
    "    input_ids = tokenizer.encode(start_text, return_tensors='pt')\n",
    "    attention_mask = torch.ones(input_ids.shape, dtype=torch.long)\n",
    "\n",
    "    # Generate text (specify the maximum length for the generated text)\n",
    "    output = model.generate(\n",
    "        input_ids, \n",
    "        attention_mask=attention_mask,  # Pass attention mask explicitly to avoid warning\n",
    "        max_new_tokens=max_new_tokens, \n",
    "        no_repeat_ngram_size=2,\n",
    "        pad_token_id=tokenizer.eos_token_id,  # Ensure padding is handled correctly\n",
    "    )\n",
    "    \n",
    "    # Decode and return generated text\n",
    "    for i, generated_sequence in enumerate(output):\n",
    "        generated_text = tokenizer.decode(generated_sequence, skip_special_tokens=True)\n",
    " \n",
    "    return generated_text"
   ]
  },
  {
   "cell_type": "code",
   "execution_count": null,
   "metadata": {
    "trusted": true
   },
   "outputs": [],
   "source": [
    "# Text prompt (the input for the model)\n",
    "input_text = \"The future of AI is\"\n",
    "max_new_tokens = 50\n",
    "\n",
    "# Decode and print the generated text\n",
    "generated_text = generate_text_using_llm(input_text, max_new_tokens)\n",
    "print(f\"Generated Text: {generated_text}\\n\")"
   ]
  },
  {
   "cell_type": "code",
   "execution_count": null,
   "metadata": {
    "trusted": true
   },
   "outputs": [],
   "source": [
    "# Proceed with email dataset\n",
    "number_of_input_words = 7\n",
    "df[\"Message, generated\"] = \"\"\n",
    "\n",
    "# Loop to generate text by text\n",
    "for ind, email in enumerate(df['Message']):\n",
    "    \n",
    "    # split email by words by space character\n",
    "    words = email.split() \n",
    "    \n",
    "    # define first words \n",
    "    input_text = \" \".join(words[:number_of_input_words]) \n",
    "    \n",
    "    # define max number of tokens to generate\n",
    "    max_new_tokens = random.randint(len(words),len(words)+10) \n",
    "\n",
    "    # Generate text \n",
    "    df.loc[ind, \"Message, generated\"] = generate_text_using_llm(input_text, max_new_tokens)\n",
    "    #print(f\"{max_new_tokens}: {input_text}\")\n",
    "    #print(f\"Generated: {df.loc[ind, \"Message, generated\"]}\")\n",
    "\n",
    "# Save the results\n",
    "df.to_csv(\"/kaggle/working/spam_enriched.csv\", index=False)"
   ]
  },
  {
   "cell_type": "code",
   "execution_count": null,
   "metadata": {
    "trusted": true
   },
   "outputs": [],
   "source": [
    "# Remove pipeline and free CPU/GPU memory\n",
    "del model, tokenizer\n",
    "gc.collect()\n",
    "if device == 'cuda': torch.cuda.empty_cache() "
   ]
  },
  {
   "cell_type": "markdown",
   "metadata": {},
   "source": [
    "# Classifiers\n",
    "\n",
    "Now, let's create two ML models that will learn and be able to predict whether the message is spam or ham.\n",
    "\n",
    "Let's start with the origin dataset without additional augmented data."
   ]
  },
  {
   "cell_type": "markdown",
   "metadata": {},
   "source": [
    "## Naive Bayes classifier\n",
    "\n",
    "I choose MultinomialNB instead of ComplementNB here since it shows better results. Try it yourself, just comment on one model and uncomment another within Step 5 in the cell below.\n",
    "\n",
    "Multinomial Naive Bayes (MultinomialNB)  \n",
    "It implements the naive Bayes algorithm for multinomially distributed data, and is one of the two classic naive Bayes variants used in text classification (where the data are typically represented as word vector counts, although tf-idf vectors are also known to work well in practice). \n",
    "\n",
    "Complement Naive Bayes (ComplementNB)  \n",
    "**Designed for imbalanced data:** ComplementNB was specifically created to address some of the weaknesses of MultinomialNB when dealing with imbalanced data. It focuses on the complement of each class, helping it perform better on minority classes.  \n",
    "**How it works:** Unlike MultinomialNB, which estimates the likelihood of each class, ComplementNB estimates the likelihood of not being in the class, which helps mitigate the dominance of the majority class.\n",
    "\n",
    "More info at scikit-learn doc [link](https://scikit-learn.org/stable/modules/naive_bayes.html#multinomial-naive-bayes)."
   ]
  },
  {
   "cell_type": "code",
   "execution_count": null,
   "metadata": {
    "trusted": true
   },
   "outputs": [],
   "source": [
    "# Import necessary libraries\n",
    "from sklearn.feature_extraction.text import CountVectorizer\n",
    "from sklearn.preprocessing import LabelEncoder\n",
    "from sklearn.model_selection import train_test_split\n",
    "from sklearn.naive_bayes import MultinomialNB, ComplementNB\n",
    "from sklearn.metrics import accuracy_score, classification_report, confusion_matrix\n",
    "import seaborn as sns\n",
    "import matplotlib.pyplot as plt\n",
    "\n",
    "# Step 1: Split dataset into features (X) and labels (y)\n",
    "X = df['Message'].values     # This is the text of the emails\n",
    "y = df['Category']    # This is the spam/ham label (e.g., 'spam' or 'ham')\n",
    "\n",
    "# # Encode labels\n",
    "# y_encoded = LabelEncoder().fit_transform(y)\n",
    "\n",
    "# Step 2: Split the dataset into training and testing sets\n",
    "X_train, X_test, y_train, y_test = train_test_split(X, y, test_size=0.2, random_state=42)\n",
    "# print(f'lenght of X_train: {len(X_train)};\\nlenght of X_test: {len(X_test)};')\n",
    "\n",
    "# Step 3: Create the CountVectorizer and fit it on the training data only\n",
    "# Transform the training text data into numeric feature vectors removing stop_words before\n",
    "vectorizer = CountVectorizer(stop_words='english')\n",
    "X_train_transformed = vectorizer.fit_transform(X_train)\n",
    "\n",
    "# Step 4: Transform the test data using the same vectorizer (without fitting again)\n",
    "# This ensures that only the words learned from the training set are used in the test set\n",
    "X_test_transformed = vectorizer.transform(X_test)\n",
    "\n",
    "# Step 5: Train the Naive Bayes model\n",
    "model = MultinomialNB(fit_prior=True) # fit_prior to handle imbalance\n",
    "# model = ComplementNB()\n",
    "model.fit(X_train_transformed, y_train)\n",
    "\n",
    "# Step 6: Make predictions on the test set\n",
    "y_pred = model.predict(X_test_transformed)\n",
    "\n",
    "# Step 7: Evaluate the model\n",
    "accuracy = accuracy_score(y_test, y_pred)\n",
    "print(f\"Accuracy: {accuracy:.2f}\")\n",
    "print(\"Classification Report:\")\n",
    "print(classification_report(y_test, y_pred))\n",
    "\n",
    "# Step 8: Confusion matrix\n",
    "cm = confusion_matrix(y_test, y_pred)\n",
    "plt.figure()\n",
    "sns.heatmap(cm, \n",
    "            annot=True,\n",
    "            fmt='g', \n",
    "            xticklabels=['Ham','Spam'],\n",
    "            yticklabels=['Ham','Spam'])\n",
    "plt.title('Confusion Matrix', fontsize=17, pad=20)\n",
    "plt.gca().xaxis.set_label_position('top') \n",
    "plt.xlabel('Prediction', fontsize=13)\n",
    "plt.ylabel('Actual', fontsize=13)\n",
    "plt.gca().xaxis.tick_top()\n",
    "plt.gca().figure.subplots_adjust(bottom=0.2)\n",
    "plt.show()"
   ]
  },
  {
   "cell_type": "markdown",
   "metadata": {},
   "source": [
    "## Support Vector Machine (SVM) classifier\n",
    "\n",
    "We use the class_weight='balanced' since our dataset is imbalanced.  \n",
    "We use a linear kernel for text classification, reasons:\n",
    "- In text classification, the data often lies in high-dimensional sparse spaces (many features but most of them are zeros, e.g., from TF-IDF or CountVectorizer representations). A linear kernel can effectively separate classes in this space.\n",
    "- The linear kernel is computationally much faster than non-linear kernels, especially when working with high-dimensional text data.\n",
    "- In text classification problems like spam detection, the relationship between features (words) and the target (spam/ham) is often linear, which is why a linear kernel performs well."
   ]
  },
  {
   "cell_type": "code",
   "execution_count": null,
   "metadata": {
    "trusted": true
   },
   "outputs": [],
   "source": [
    "# Import necessary libraries\n",
    "from sklearn.svm import SVC\n",
    "\n",
    "# Step 1: Split dataset into features (X) and labels (y)\n",
    "X = df['Message']     # This is the text of the emails\n",
    "y = df['Category']    # This is the spam/ham label (e.g., 'spam' or 'ham')\n",
    "\n",
    "# Step 2: Split the dataset into training and testing sets\n",
    "X_train, X_test, y_train, y_test = train_test_split(X, y, test_size=0.2, random_state=42)\n",
    "\n",
    "# Step 3: Create the CountVectorizer and fit it on the training data only\n",
    "# Transform the training text data into numeric feature vectors removing stop_words before\n",
    "vectorizer = CountVectorizer(stop_words='english')\n",
    "X_train_transformed = vectorizer.fit_transform(X_train)\n",
    "\n",
    "# Step 4: Transform the test data using the same vectorizer (without fitting again)\n",
    "X_test_transformed = vectorizer.transform(X_test)\n",
    "\n",
    "# Step 5: Train the Support Vector Machine (SVM) model\n",
    "model = SVC(kernel='linear', class_weight='balanced')  \n",
    "model.fit(X_train_transformed, y_train)\n",
    "\n",
    "# Step 6: Make predictions on the test set\n",
    "y_pred = model.predict(X_test_transformed)\n",
    "\n",
    "# Step 7: Evaluate the model\n",
    "accuracy = accuracy_score(y_test, y_pred)\n",
    "print(f\"Accuracy: {accuracy:.2f}\")\n",
    "print(\"Classification Report:\")\n",
    "print(classification_report(y_test, y_pred))\n",
    "\n",
    "# Step 8: Confusion matrix\n",
    "cm = confusion_matrix(y_test, y_pred)\n",
    "plt.figure()\n",
    "sns.heatmap(cm, \n",
    "            annot=True,\n",
    "            fmt='g', \n",
    "            xticklabels=['Ham','Spam'],\n",
    "            yticklabels=['Ham','Spam'])\n",
    "plt.title('Confusion Matrix', fontsize=17, pad=20)\n",
    "plt.gca().xaxis.set_label_position('top') \n",
    "plt.xlabel('Prediction', fontsize=13)\n",
    "plt.ylabel('Actual', fontsize=13)\n",
    "plt.gca().xaxis.tick_top()\n",
    "plt.gca().figure.subplots_adjust(bottom=0.2)\n",
    "plt.show()"
   ]
  },
  {
   "cell_type": "code",
   "execution_count": null,
   "metadata": {},
   "outputs": [],
   "source": []
  },
  {
   "cell_type": "code",
   "execution_count": null,
   "metadata": {},
   "outputs": [],
   "source": []
  },
  {
   "cell_type": "code",
   "execution_count": null,
   "metadata": {},
   "outputs": [],
   "source": []
  },
  {
   "cell_type": "code",
   "execution_count": null,
   "metadata": {},
   "outputs": [],
   "source": []
  },
  {
   "cell_type": "code",
   "execution_count": null,
   "metadata": {},
   "outputs": [],
   "source": []
  },
  {
   "cell_type": "code",
   "execution_count": null,
   "metadata": {},
   "outputs": [],
   "source": []
  },
  {
   "cell_type": "code",
   "execution_count": null,
   "metadata": {},
   "outputs": [],
   "source": []
  }
 ],
 "metadata": {
  "kaggle": {
   "accelerator": "nvidiaTeslaT4",
   "dataSources": [
    {
     "datasetId": 3839058,
     "sourceId": 6651650,
     "sourceType": "datasetVersion"
    },
    {
     "datasetId": 2849278,
     "sourceId": 8251869,
     "sourceType": "datasetVersion"
    }
   ],
   "dockerImageVersionId": 30762,
   "isGpuEnabled": true,
   "isInternetEnabled": true,
   "language": "python",
   "sourceType": "notebook"
  },
  "kernelspec": {
   "display_name": "Python 3",
   "language": "python",
   "name": "python3"
  },
  "language_info": {
   "codemirror_mode": {
    "name": "ipython",
    "version": 3
   },
   "file_extension": ".py",
   "mimetype": "text/x-python",
   "name": "python",
   "nbconvert_exporter": "python",
   "pygments_lexer": "ipython3",
   "version": "3.10.14"
  }
 },
 "nbformat": 4,
 "nbformat_minor": 4
}
